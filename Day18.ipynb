{
 "cells": [
  {
   "cell_type": "code",
   "execution_count": 1,
   "id": "9211559b-d7a6-4a8b-8bc5-7aec46572d2b",
   "metadata": {},
   "outputs": [],
   "source": [
    "import re\n",
    "\n",
    "DIRECTIONS = {\"0\": \"R\", \"1\": \"D\", \"2\": \"L\", \"3\": \"U\"}\n",
    "regex = re.compile(r\"(\\w) (\\d+) \\(#(\\w{5})(\\d)\\)\")\n",
    "directions1, directions2 = [], []\n",
    "with open(\"Day18.txt\") as file:\n",
    "    for line in file:\n",
    "        if match := regex.match(line):\n",
    "            directions1.append((\n",
    "                match.group(1),\n",
    "                int(match.group(2)),\n",
    "            ))\n",
    "            directions2.append((\n",
    "                DIRECTIONS[match.group(4)],\n",
    "                int(match.group(3), 16),\n",
    "            ))"
   ]
  },
  {
   "cell_type": "code",
   "execution_count": 2,
   "id": "cef73bf6-fb45-415e-a724-6e317f154e7f",
   "metadata": {},
   "outputs": [],
   "source": [
    "from shapely import Polygon\n",
    "\n",
    "DIRECTIONS = {\"R\": (+1, 0), \"D\": (0, +1), \"L\": (-1, 0), \"U\": (0, -1),}\n",
    "\n",
    "def solve(directions):\n",
    "    coords, (x, y) = [], (0, 0)\n",
    "    for direction, length in directions:\n",
    "        sx, sy = DIRECTIONS[direction]\n",
    "        x, y = x + sx * length, y + sy * length\n",
    "        coords.append((x, y))\n",
    "    polygon = Polygon(coords)\n",
    "    return int(polygon.area + polygon.length // 2 + 1)"
   ]
  },
  {
   "cell_type": "code",
   "execution_count": 3,
   "id": "7f8fc071-7ded-441f-8649-563e7b980942",
   "metadata": {},
   "outputs": [
    {
     "data": {
      "text/plain": [
       "46334"
      ]
     },
     "execution_count": 3,
     "metadata": {},
     "output_type": "execute_result"
    }
   ],
   "source": [
    "solve(directions1)"
   ]
  },
  {
   "cell_type": "code",
   "execution_count": 4,
   "id": "73d3a82a-b6ee-4cdf-8515-cc8113f069c4",
   "metadata": {},
   "outputs": [
    {
     "data": {
      "text/plain": [
       "102000662718092"
      ]
     },
     "execution_count": 4,
     "metadata": {},
     "output_type": "execute_result"
    }
   ],
   "source": [
    "solve(directions2)"
   ]
  }
 ],
 "metadata": {
  "kernelspec": {
   "display_name": "Python 3 (ipykernel)",
   "language": "python",
   "name": "python3"
  },
  "language_info": {
   "codemirror_mode": {
    "name": "ipython",
    "version": 3
   },
   "file_extension": ".py",
   "mimetype": "text/x-python",
   "name": "python",
   "nbconvert_exporter": "python",
   "pygments_lexer": "ipython3",
   "version": "3.12.0"
  }
 },
 "nbformat": 4,
 "nbformat_minor": 5
}
