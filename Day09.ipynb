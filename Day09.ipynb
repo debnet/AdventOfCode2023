{
 "cells": [
  {
   "cell_type": "code",
   "execution_count": 1,
   "id": "dfb8edc8-776a-4677-a431-ceaeffc55305",
   "metadata": {},
   "outputs": [],
   "source": [
    "with open(\"Day09.txt\") as file:\n",
    "    sequences = [list(map(int, line.strip().split())) for line in file]"
   ]
  },
  {
   "cell_type": "code",
   "execution_count": 2,
   "id": "63da1fa6-88ee-4e1c-b6d9-1cfa8f10825f",
   "metadata": {},
   "outputs": [],
   "source": [
    "from itertools import pairwise\n",
    "\n",
    "def solve(sequence):\n",
    "    last = sequence[-1]\n",
    "    while any(sequence):\n",
    "        sequence = [y - x for x, y in pairwise(sequence)]\n",
    "        last += sequence[-1]\n",
    "    return last"
   ]
  },
  {
   "cell_type": "code",
   "execution_count": 3,
   "id": "8af31faa-58fb-47a3-a6d0-a04bab699725",
   "metadata": {},
   "outputs": [
    {
     "data": {
      "text/plain": [
       "1904165718"
      ]
     },
     "execution_count": 3,
     "metadata": {},
     "output_type": "execute_result"
    }
   ],
   "source": [
    "sum(solve(sequence) for sequence in sequences)"
   ]
  },
  {
   "cell_type": "code",
   "execution_count": 4,
   "id": "88522ef3-799b-4188-a213-65287b72a184",
   "metadata": {},
   "outputs": [
    {
     "data": {
      "text/plain": [
       "964"
      ]
     },
     "execution_count": 4,
     "metadata": {},
     "output_type": "execute_result"
    }
   ],
   "source": [
    "sum(solve(sequence[::-1]) for sequence in sequences)"
   ]
  }
 ],
 "metadata": {
  "kernelspec": {
   "display_name": "Python 3 (ipykernel)",
   "language": "python",
   "name": "python3"
  },
  "language_info": {
   "codemirror_mode": {
    "name": "ipython",
    "version": 3
   },
   "file_extension": ".py",
   "mimetype": "text/x-python",
   "name": "python",
   "nbconvert_exporter": "python",
   "pygments_lexer": "ipython3",
   "version": "3.12.0"
  }
 },
 "nbformat": 4,
 "nbformat_minor": 5
}
