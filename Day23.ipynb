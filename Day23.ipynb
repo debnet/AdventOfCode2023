{
 "cells": [
  {
   "cell_type": "code",
   "execution_count": 1,
   "id": "74ccff07-7094-42d9-bb25-185d2494fd8c",
   "metadata": {},
   "outputs": [],
   "source": [
    "with open(\"Day23.txt\") as file:\n",
    "    grid = file.read().strip().split()\n",
    "height, width = len(grid), len(grid[0])"
   ]
  },
  {
   "cell_type": "code",
   "execution_count": 2,
   "id": "ba4241cc-4c9c-4da5-bb33-0090235b591e",
   "metadata": {},
   "outputs": [],
   "source": [
    "import networkx as nx\n",
    "\n",
    "start, stop = (0, 1), (height - 1, width - 2)\n",
    "directions = {\n",
    "    \">\": (0, -1),\n",
    "    \"<\": (0, +1),\n",
    "    \"^\": (+1, 0),\n",
    "    \"v\": (-1, 0),\n",
    "}\n",
    "\n",
    "graph1 = nx.grid_2d_graph(height, width, create_using=nx.DiGraph)\n",
    "graph2 = nx.grid_2d_graph(height, width)\n",
    "for y, line in enumerate(grid):\n",
    "    for x, char in enumerate(line):\n",
    "        point = (y, x)\n",
    "        if char == \"#\":\n",
    "            graph1.remove_node(point)\n",
    "            graph2.remove_node(point)\n",
    "        elif direction := directions.get(char):\n",
    "            dy, dx = direction\n",
    "            graph1.remove_edge(point, (y + dy, x + dx))"
   ]
  },
  {
   "cell_type": "code",
   "execution_count": 3,
   "id": "dd4da5f9-4b87-4be3-b575-e0d5e1997ea2",
   "metadata": {},
   "outputs": [
    {
     "name": "stdout",
     "output_type": "stream",
     "text": [
      "CPU times: user 10.6 s, sys: 2.26 ms, total: 10.6 s\n",
      "Wall time: 10.6 s\n"
     ]
    },
    {
     "data": {
      "text/plain": [
       "2366"
      ]
     },
     "execution_count": 3,
     "metadata": {},
     "output_type": "execute_result"
    }
   ],
   "source": [
    "%%time\n",
    "max(map(len, nx.all_simple_edge_paths(graph1, start, stop)))"
   ]
  },
  {
   "cell_type": "code",
   "execution_count": 4,
   "id": "e56fb03a-9ae8-4d9c-a0d2-9f561dc207bf",
   "metadata": {},
   "outputs": [],
   "source": [
    "# Reduce all straight paths (nodes with only 2 neighbours) to simplify the graph\n",
    "simple_nodes = [node for node in graph2.nodes if len(graph2.edges(node)) == 2]\n",
    "for node in simple_nodes:\n",
    "    neighbours = node1, node2 = tuple(graph2.neighbors(node))\n",
    "    weight = sum(graph2.edges[node, neighbour].setdefault(\"weight\", 1) for neighbour in neighbours)\n",
    "    graph2.add_edge(node1, node2, weight=weight)\n",
    "    graph2.remove_node(node)"
   ]
  },
  {
   "cell_type": "code",
   "execution_count": 5,
   "id": "04e1b896-f416-49c7-bab3-811f5579eeed",
   "metadata": {},
   "outputs": [
    {
     "name": "stdout",
     "output_type": "stream",
     "text": [
      "CPU times: user 2min 28s, sys: 9.89 ms, total: 2min 28s\n",
      "Wall time: 2min 29s\n"
     ]
    },
    {
     "data": {
      "text/plain": [
       "6682"
      ]
     },
     "execution_count": 5,
     "metadata": {},
     "output_type": "execute_result"
    }
   ],
   "source": [
    "%%time\n",
    "max(nx.path_weight(graph2, path, \"weight\") for path in nx.all_simple_paths(graph2, start, stop))"
   ]
  }
 ],
 "metadata": {
  "kernelspec": {
   "display_name": "Python 3 (ipykernel)",
   "language": "python",
   "name": "python3"
  },
  "language_info": {
   "codemirror_mode": {
    "name": "ipython",
    "version": 3
   },
   "file_extension": ".py",
   "mimetype": "text/x-python",
   "name": "python",
   "nbconvert_exporter": "python",
   "pygments_lexer": "ipython3",
   "version": "3.12.1"
  }
 },
 "nbformat": 4,
 "nbformat_minor": 5
}
