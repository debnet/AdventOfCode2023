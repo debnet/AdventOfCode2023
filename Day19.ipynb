{
 "cells": [
  {
   "cell_type": "code",
   "execution_count": 1,
   "id": "0fb3d665-5016-4c5b-bd1b-e2420b7afde3",
   "metadata": {},
   "outputs": [],
   "source": [
    "import re\n",
    "\n",
    "regex_workflow = re.compile(r\"(\\w+)\\{(.*)\\}\")\n",
    "regex_condition = re.compile(r\"((\\w)([><])(\\d+):)?(\\w+)\")\n",
    "\n",
    "tryint = lambda i: int(i) if i.isdigit() else i\n",
    "workflows, parts = {}, []\n",
    "with open(\"Day19.txt\") as file:\n",
    "    for line in file.read().splitlines():\n",
    "        if not line:\n",
    "            continue\n",
    "        if match := regex_workflow.match(line):\n",
    "            name, conditions = match.groups()\n",
    "            workflow = regex_condition.findall(conditions)\n",
    "            workflows[name] = [tuple(map(tryint, flow[1:])) for flow in workflow]\n",
    "        else:\n",
    "            part = dict(zip(\"xmas\", map(int, re.findall(r\"\\d+\", line))))\n",
    "            parts.append(part)"
   ]
  },
  {
   "cell_type": "code",
   "execution_count": 2,
   "id": "3787cbf6-6edb-455b-a67d-e411c3f19765",
   "metadata": {},
   "outputs": [
    {
     "data": {
      "text/plain": [
       "346230"
      ]
     },
     "execution_count": 2,
     "metadata": {},
     "output_type": "execute_result"
    }
   ],
   "source": [
    "def run(x, m, a, s, workflow=\"in\"):\n",
    "    for variable, operator, value, result in workflows[workflow]:\n",
    "        if not variable or eval(f\"{variable}{operator}{value}\"):\n",
    "            if result in \"AR\":\n",
    "                return result == \"A\"\n",
    "            return run(x, m, a, s, workflow=result)\n",
    "\n",
    "sum(sum(part.values()) for part in parts if run(**part))"
   ]
  },
  {
   "cell_type": "code",
   "execution_count": 3,
   "id": "34a6946a-36fa-4eb0-a9ad-1996a81b81d3",
   "metadata": {},
   "outputs": [
    {
     "data": {
      "text/plain": [
       "124693661917133"
      ]
     },
     "execution_count": 3,
     "metadata": {},
     "output_type": "execute_result"
    }
   ],
   "source": [
    "from math import prod\n",
    "\n",
    "def solve(limits, workflow=\"in\"):\n",
    "    if workflow == \"R\":\n",
    "        # if rejected, no combination is valid\n",
    "        return 0\n",
    "    elif workflow == \"A\":\n",
    "        # if accepted, the count is the product of all intervals\n",
    "        return prod((upper - lower) + 1 for lower, upper in limits.values())\n",
    "    count = 0\n",
    "    # loop on all workflow rules, fallback at the end\n",
    "    for variable, operator, value, result in workflows[workflow]:\n",
    "        if not variable:\n",
    "            # fallback value with no condition attached\n",
    "            count += solve(limits, result)\n",
    "        else:\n",
    "            # current interval for the targeted variable\n",
    "            lower, upper = limits[variable]\n",
    "            # split the interval between potential accepted/rejected possibilities according to the operator\n",
    "            if operator == \"<\":\n",
    "                alimits = (lower, value - 1)\n",
    "                rlimits = (value, upper)\n",
    "            elif operator == \">\":\n",
    "                alimits = (value + 1, upper)\n",
    "                rlimits = (lower, value)\n",
    "            # check if accepted interval is empty\n",
    "            if sum(alimits) >= 0:\n",
    "                limits = limits | {variable: alimits}\n",
    "                count += solve(limits, result)\n",
    "            # check if rejected interval is empty\n",
    "            if sum(rlimits) >= 0:\n",
    "                limits = limits | {variable: rlimits}\n",
    "            else:\n",
    "                # if rejected interval is empty, accepted interval covered all possibilities\n",
    "                # no need to check further workflow rules\n",
    "                break\n",
    "    return count\n",
    "\n",
    "solve(dict.fromkeys(\"xmas\", (1, 4000)))"
   ]
  }
 ],
 "metadata": {
  "kernelspec": {
   "display_name": "Python 3 (ipykernel)",
   "language": "python",
   "name": "python3"
  },
  "language_info": {
   "codemirror_mode": {
    "name": "ipython",
    "version": 3
   },
   "file_extension": ".py",
   "mimetype": "text/x-python",
   "name": "python",
   "nbconvert_exporter": "python",
   "pygments_lexer": "ipython3",
   "version": "3.12.1"
  }
 },
 "nbformat": 4,
 "nbformat_minor": 5
}
