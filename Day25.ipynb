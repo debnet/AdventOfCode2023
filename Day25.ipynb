{
 "cells": [
  {
   "cell_type": "code",
   "execution_count": 1,
   "id": "57f5a71e-bd09-4f3a-a446-b1d55579a700",
   "metadata": {},
   "outputs": [],
   "source": [
    "import networkx as nx\n",
    "from itertools import product\n",
    "\n",
    "graph = nx.Graph()\n",
    "with open(\"Day25.txt\") as file:\n",
    "    for line in file:\n",
    "        nodes = line.strip().replace(\":\", \"\").split()\n",
    "        graph.add_edges_from(product([nodes[0]], nodes[1:]), capacity=1)"
   ]
  },
  {
   "cell_type": "code",
   "execution_count": 2,
   "id": "1555b1d9-ea39-4528-b37b-ae3afc9b7885",
   "metadata": {},
   "outputs": [
    {
     "name": "stdout",
     "output_type": "stream",
     "text": [
      "CPU times: user 214 ms, sys: 8.86 ms, total: 223 ms\n",
      "Wall time: 224 ms\n"
     ]
    },
    {
     "data": {
      "text/plain": [
       "580800"
      ]
     },
     "execution_count": 2,
     "metadata": {},
     "output_type": "execute_result"
    }
   ],
   "source": [
    "%%time\n",
    "from itertools import combinations\n",
    "from math import prod\n",
    "\n",
    "for nodes in combinations(graph.nodes, 2):\n",
    "    cuts, subgraphs = nx.minimum_cut(graph, *nodes)\n",
    "    if cuts == 3:\n",
    "        break\n",
    "prod(len(subgraph) for subgraph in subgraphs)"
   ]
  }
 ],
 "metadata": {
  "kernelspec": {
   "display_name": "Python 3 (ipykernel)",
   "language": "python",
   "name": "python3"
  },
  "language_info": {
   "codemirror_mode": {
    "name": "ipython",
    "version": 3
   },
   "file_extension": ".py",
   "mimetype": "text/x-python",
   "name": "python",
   "nbconvert_exporter": "python",
   "pygments_lexer": "ipython3",
   "version": "3.12.1"
  }
 },
 "nbformat": 4,
 "nbformat_minor": 5
}
