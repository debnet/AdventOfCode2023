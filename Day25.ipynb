{
 "cells": [
  {
   "cell_type": "code",
   "execution_count": 1,
   "id": "57f5a71e-bd09-4f3a-a446-b1d55579a700",
   "metadata": {},
   "outputs": [],
   "source": [
    "import networkx as nx\n",
    "from itertools import product\n",
    "\n",
    "graph = nx.Graph()\n",
    "with open(\"Day25.txt\") as file:\n",
    "    for line in file:\n",
    "        nodes = line.strip().replace(\":\", \"\").split()\n",
    "        graph.add_edges_from(product([nodes[0]], nodes[1:]))"
   ]
  },
  {
   "cell_type": "code",
   "execution_count": 2,
   "id": "4c3daed4-9bba-48a3-8f57-a0a6722b3555",
   "metadata": {},
   "outputs": [
    {
     "name": "stdout",
     "output_type": "stream",
     "text": [
      "CPU times: user 5.7 s, sys: 3.22 ms, total: 5.7 s\n",
      "Wall time: 5.76 s\n"
     ]
    },
    {
     "data": {
      "text/plain": [
       "580800"
      ]
     },
     "execution_count": 2,
     "metadata": {},
     "output_type": "execute_result"
    }
   ],
   "source": [
    "%%time\n",
    "from math import prod\n",
    "graph.remove_edges_from(nx.minimum_edge_cut(graph))\n",
    "prod(len(nodes) for nodes in nx.connected_components(graph))"
   ]
  }
 ],
 "metadata": {
  "kernelspec": {
   "display_name": "Python 3 (ipykernel)",
   "language": "python",
   "name": "python3"
  },
  "language_info": {
   "codemirror_mode": {
    "name": "ipython",
    "version": 3
   },
   "file_extension": ".py",
   "mimetype": "text/x-python",
   "name": "python",
   "nbconvert_exporter": "python",
   "pygments_lexer": "ipython3",
   "version": "3.12.1"
  }
 },
 "nbformat": 4,
 "nbformat_minor": 5
}
