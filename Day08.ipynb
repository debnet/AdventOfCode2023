{
 "cells": [
  {
   "cell_type": "code",
   "execution_count": 1,
   "id": "470d6097-9d5e-494d-baea-13e977bbf88a",
   "metadata": {},
   "outputs": [],
   "source": [
    "import re\n",
    "\n",
    "DIRECTIONS = {\"L\": 0, \"R\": 1}\n",
    "regex_network = re.compile(r\"(\\w+) = \\((\\w+), (\\w+)\\)\")\n",
    "directions, network = [], {}\n",
    "with open(\"Day08.txt\") as file:\n",
    "    for i, line in enumerate(file):\n",
    "        if not i:\n",
    "            directions = [DIRECTIONS.get(direction) for direction in line.strip()]\n",
    "        elif match := regex_network.match(line.strip()):\n",
    "            network[match.group(1)] = (match.group(2), match.group(3))"
   ]
  },
  {
   "cell_type": "code",
   "execution_count": 2,
   "id": "fd113fb0-37be-47d1-a880-75ccdd0d0430",
   "metadata": {},
   "outputs": [
    {
     "data": {
      "text/plain": [
       "17263"
      ]
     },
     "execution_count": 2,
     "metadata": {},
     "output_type": "execute_result"
    }
   ],
   "source": [
    "from itertools import cycle\n",
    "\n",
    "steps = 0\n",
    "direction = cycle(directions)\n",
    "current = \"AAA\"\n",
    "while current != \"ZZZ\":\n",
    "    current = network[current][next(direction)]\n",
    "    steps += 1\n",
    "steps"
   ]
  },
  {
   "cell_type": "code",
   "execution_count": 3,
   "id": "220ca821-f5d1-4c38-8ad7-a34222888360",
   "metadata": {},
   "outputs": [
    {
     "data": {
      "text/plain": [
       "14631604759649"
      ]
     },
     "execution_count": 3,
     "metadata": {},
     "output_type": "execute_result"
    }
   ],
   "source": [
    "from math import lcm\n",
    "\n",
    "steps, found = 0, False\n",
    "direction = cycle(directions)\n",
    "currents = [node for node in network if node.endswith(\"A\")]\n",
    "intervals = [None] * len(currents)\n",
    "while not all(intervals):\n",
    "    next_direction = next(direction)\n",
    "    for index, node in enumerate(currents):\n",
    "        if not intervals[index] and node.endswith(\"Z\"):\n",
    "            intervals[index] = steps\n",
    "        currents[index] = network[node][next_direction]\n",
    "    steps += 1\n",
    "lcm(*intervals)"
   ]
  }
 ],
 "metadata": {
  "kernelspec": {
   "display_name": "Python 3 (ipykernel)",
   "language": "python",
   "name": "python3"
  },
  "language_info": {
   "codemirror_mode": {
    "name": "ipython",
    "version": 3
   },
   "file_extension": ".py",
   "mimetype": "text/x-python",
   "name": "python",
   "nbconvert_exporter": "python",
   "pygments_lexer": "ipython3",
   "version": "3.12.0"
  }
 },
 "nbformat": 4,
 "nbformat_minor": 5
}
