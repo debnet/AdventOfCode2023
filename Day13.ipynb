{
 "cells": [
  {
   "cell_type": "code",
   "execution_count": 1,
   "id": "e7af3896-5a17-4e7b-9e04-3750bc3fffa9",
   "metadata": {},
   "outputs": [],
   "source": [
    "with open(\"Day13.txt\") as file:\n",
    "    grids = [block.splitlines() for block in file.read().split(\"\\n\\n\")]\n",
    "tgrids = [[\"\".join(line) for line in zip(*grid)] for grid in grids]"
   ]
  },
  {
   "cell_type": "code",
   "execution_count": 2,
   "id": "b7337175-31c4-4485-83b6-fa52e31f163d",
   "metadata": {},
   "outputs": [],
   "source": [
    "def find_symmetry(grid, smudges=0):\n",
    "    rows, cols = len(grid), len(grid[0])\n",
    "    for col in range(cols - 1):\n",
    "        errors = 0\n",
    "        for split in range(cols):\n",
    "            left, right = col - split, col + split + 1\n",
    "            if 0 <= left < right < cols:\n",
    "                for row in range(rows):\n",
    "                    errors += grid[row][left] != grid[row][right]\n",
    "        if errors == smudges:\n",
    "            return col + 1\n",
    "    return 0"
   ]
  },
  {
   "cell_type": "code",
   "execution_count": 3,
   "id": "e0f2896a-0178-421d-818d-94810242f713",
   "metadata": {},
   "outputs": [
    {
     "data": {
      "text/plain": [
       "37975"
      ]
     },
     "execution_count": 3,
     "metadata": {},
     "output_type": "execute_result"
    }
   ],
   "source": [
    "sum(find_symmetry(grid, 0) for grid in grids) + 100 * sum(find_symmetry(tgrid, 0) for tgrid in tgrids)"
   ]
  },
  {
   "cell_type": "code",
   "execution_count": 4,
   "id": "c307d71d-351f-4822-af43-d11fd4f05466",
   "metadata": {},
   "outputs": [
    {
     "data": {
      "text/plain": [
       "32497"
      ]
     },
     "execution_count": 4,
     "metadata": {},
     "output_type": "execute_result"
    }
   ],
   "source": [
    "sum(find_symmetry(grid, 1) for grid in grids) + 100 * sum(find_symmetry(tgrid, 1) for tgrid in tgrids)"
   ]
  }
 ],
 "metadata": {
  "kernelspec": {
   "display_name": "Python 3 (ipykernel)",
   "language": "python",
   "name": "python3"
  },
  "language_info": {
   "codemirror_mode": {
    "name": "ipython",
    "version": 3
   },
   "file_extension": ".py",
   "mimetype": "text/x-python",
   "name": "python",
   "nbconvert_exporter": "python",
   "pygments_lexer": "ipython3",
   "version": "3.12.0"
  }
 },
 "nbformat": 4,
 "nbformat_minor": 5
}
