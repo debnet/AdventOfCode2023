{
 "cells": [
  {
   "cell_type": "code",
   "execution_count": 1,
   "id": "2d7b5073-3354-4627-80e1-6691f67a0121",
   "metadata": {},
   "outputs": [],
   "source": [
    "with open(\"Day15.txt\") as file:\n",
    "    chunks = file.read().strip().split(\",\")"
   ]
  },
  {
   "cell_type": "code",
   "execution_count": 2,
   "id": "9ef0cdab-506a-4480-8118-481d85bcacb2",
   "metadata": {},
   "outputs": [],
   "source": [
    "def hash(s):\n",
    "    v = 0\n",
    "    for c in s:\n",
    "        v += ord(c)\n",
    "        v *= 17\n",
    "        v %= 256\n",
    "    return v"
   ]
  },
  {
   "cell_type": "code",
   "execution_count": 3,
   "id": "66217ec7-3e25-4684-9421-fda4f7d9fe85",
   "metadata": {},
   "outputs": [
    {
     "data": {
      "text/plain": [
       "522547"
      ]
     },
     "execution_count": 3,
     "metadata": {},
     "output_type": "execute_result"
    }
   ],
   "source": [
    "sum(hash(chunk) for chunk in chunks)"
   ]
  },
  {
   "cell_type": "code",
   "execution_count": 4,
   "id": "643f6013-d7b7-440c-aa9e-f0d8d152bc64",
   "metadata": {},
   "outputs": [
    {
     "data": {
      "text/plain": [
       "229271"
      ]
     },
     "execution_count": 4,
     "metadata": {},
     "output_type": "execute_result"
    }
   ],
   "source": [
    "import re\n",
    "\n",
    "regex = re.compile(r\"(\\w+)(=|-)(\\d+)?\")\n",
    "\n",
    "boxes = {}\n",
    "for chunk in chunks:\n",
    "    label, operator, focus = regex.match(chunk).groups()\n",
    "    box = boxes.setdefault(hash(label), {})\n",
    "    if operator == \"-\":\n",
    "        box.pop(label, None)\n",
    "        continue\n",
    "    box[label] = int(focus)\n",
    "    \n",
    "sum((box + 1) * (slot + 1) * focus for box, slots in boxes.items() for slot, focus in enumerate(slots.values()))"
   ]
  }
 ],
 "metadata": {
  "kernelspec": {
   "display_name": "Python 3 (ipykernel)",
   "language": "python",
   "name": "python3"
  },
  "language_info": {
   "codemirror_mode": {
    "name": "ipython",
    "version": 3
   },
   "file_extension": ".py",
   "mimetype": "text/x-python",
   "name": "python",
   "nbconvert_exporter": "python",
   "pygments_lexer": "ipython3",
   "version": "3.12.0"
  }
 },
 "nbformat": 4,
 "nbformat_minor": 5
}
