{
 "cells": [
  {
   "cell_type": "code",
   "execution_count": 1,
   "id": "f04f8b89-b664-4096-a5a9-7e11dbc0cf2c",
   "metadata": {},
   "outputs": [],
   "source": [
    "import re\n",
    "\n",
    "regex_card = re.compile(r\"Card\\s+(\\d+):([^\\|]+)\\|(.*)\")\n",
    "regex_num = re.compile(r\"\\d+\")\n",
    "\n",
    "cards = {}\n",
    "with open(\"Day04.txt\") as file:\n",
    "    for line in file:\n",
    "        if match := regex_card.match(line):\n",
    "            card_id, card_win, card_num = match.groups()\n",
    "            card_id, card_win, card_num = (\n",
    "                int(card_id), \n",
    "                frozenset(map(int, regex_num.findall(card_win))), \n",
    "                frozenset(map(int, regex_num.findall(card_num))), \n",
    "            )\n",
    "            cards[card_id] = (card_win, card_num)"
   ]
  },
  {
   "cell_type": "code",
   "execution_count": 2,
   "id": "ebe2e764-1a24-418c-b6f6-fba20bd8c179",
   "metadata": {},
   "outputs": [
    {
     "data": {
      "text/plain": [
       "18653"
      ]
     },
     "execution_count": 2,
     "metadata": {},
     "output_type": "execute_result"
    }
   ],
   "source": [
    "from functools import cache\n",
    "\n",
    "@cache\n",
    "def solve(value):\n",
    "    if value <= 2:\n",
    "        return value\n",
    "    return solve(value - 1) * 2\n",
    "\n",
    "sum(solve(len(win & num)) for win, num in cards.values())"
   ]
  },
  {
   "cell_type": "code",
   "execution_count": 3,
   "id": "002dbd77-4f4c-483b-9b07-1e346251a47d",
   "metadata": {},
   "outputs": [
    {
     "data": {
      "text/plain": [
       "5921508"
      ]
     },
     "execution_count": 3,
     "metadata": {},
     "output_type": "execute_result"
    }
   ],
   "source": [
    "@cache\n",
    "def play(id):\n",
    "    played = 1\n",
    "    win, num = cards[id]\n",
    "    for i in range(len(win & num)):\n",
    "        played += play(id + i + 1)\n",
    "    return played\n",
    "\n",
    "played = 0\n",
    "for id in cards:\n",
    "    played += play(id)\n",
    "played"
   ]
  }
 ],
 "metadata": {
  "kernelspec": {
   "display_name": "Python 3 (ipykernel)",
   "language": "python",
   "name": "python3"
  },
  "language_info": {
   "codemirror_mode": {
    "name": "ipython",
    "version": 3
   },
   "file_extension": ".py",
   "mimetype": "text/x-python",
   "name": "python",
   "nbconvert_exporter": "python",
   "pygments_lexer": "ipython3",
   "version": "3.12.0"
  }
 },
 "nbformat": 4,
 "nbformat_minor": 5
}
