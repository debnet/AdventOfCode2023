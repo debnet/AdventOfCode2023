{
 "cells": [
  {
   "cell_type": "code",
   "execution_count": 1,
   "id": "e80dca5a-a807-4ecd-b109-06ce197d1928",
   "metadata": {},
   "outputs": [],
   "source": [
    "import re\n",
    "\n",
    "regex_seeds = re.compile(r\"seeds: (.*)\")\n",
    "regex_map = re.compile(r\"([\\w-]+) map:\")\n",
    "regex_range = re.compile(r\"(\\d+) (\\d+) (\\d+)\")\n",
    "\n",
    "seeds, maps = [], {}\n",
    "with open(\"Day05.txt\") as file:\n",
    "    current_map = None\n",
    "    for line in file:\n",
    "        line = line.strip()\n",
    "        if not line:\n",
    "            continue\n",
    "        if match := regex_seeds.match(line):\n",
    "            seeds.extend(map(int, re.findall(r\"\\d+\", match.group(1))))\n",
    "        elif match := regex_map.match(line):\n",
    "            current_map = maps.setdefault(match.group(1), [])\n",
    "        elif match := regex_range.match(line):\n",
    "            current_map.append(tuple(map(int, match.groups())))"
   ]
  },
  {
   "cell_type": "code",
   "execution_count": 2,
   "id": "14faf105-ea61-4ca5-9ff1-a95e945cf991",
   "metadata": {},
   "outputs": [
    {
     "data": {
      "text/plain": [
       "457535844"
      ]
     },
     "execution_count": 2,
     "metadata": {},
     "output_type": "execute_result"
    }
   ],
   "source": [
    "locations = {}\n",
    "for seed in seeds:\n",
    "    value = seed\n",
    "    for _map in maps.values():\n",
    "        for dest, src, rng in _map:\n",
    "            if src <= value <= src + rng - 1:\n",
    "                value = dest + (value - src)\n",
    "                break\n",
    "    locations[seed] = value\n",
    "min(locations.values())"
   ]
  },
  {
   "cell_type": "code",
   "execution_count": 3,
   "id": "edaaf4a2-c546-4142-8589-0260f1ee4c05",
   "metadata": {},
   "outputs": [
    {
     "data": {
      "text/plain": [
       "41222968"
      ]
     },
     "execution_count": 3,
     "metadata": {},
     "output_type": "execute_result"
    }
   ],
   "source": [
    "from itertools import batched\n",
    "\n",
    "locations = []\n",
    "seed_pairs = [(start, start + length - 1) for start, length in batched(seeds, 2)]\n",
    "for omin, omax in seed_pairs:\n",
    "    remain, result = [(omin, omax)], []\n",
    "    for _map in maps.values():\n",
    "        while remain:\n",
    "            x, y = remain.pop()\n",
    "            for dest, src, rng in _map:\n",
    "                if y < src or src + rng <= x:\n",
    "                    continue\n",
    "                if src <= x <= y <= src + rng:\n",
    "                    result.append((dest + x - src, dest - src + y))\n",
    "                    break\n",
    "                if x < src <= y < src + rng:\n",
    "                    result.append((dest, dest - src + y))\n",
    "                    remain.append((x, src - 1))\n",
    "                    break\n",
    "                if src <= x <= src + rng <= y:\n",
    "                    result.append((dest - src + x, dest + rng - 1))\n",
    "                    remain.append((src + rng, y))\n",
    "                    break\n",
    "                if x < src <= src + rng <= y:\n",
    "                    result.append((dest, dest + rng + 1))\n",
    "                    remain.append((x, src - 1))\n",
    "                    remain.append((src + rng, y))\n",
    "                    break\n",
    "            else:\n",
    "                result.append((x, y))\n",
    "        remain = result\n",
    "        result = []\n",
    "    locations.extend(remain)\n",
    "min(min(locations))"
   ]
  }
 ],
 "metadata": {
  "kernelspec": {
   "display_name": "Python 3 (ipykernel)",
   "language": "python",
   "name": "python3"
  },
  "language_info": {
   "codemirror_mode": {
    "name": "ipython",
    "version": 3
   },
   "file_extension": ".py",
   "mimetype": "text/x-python",
   "name": "python",
   "nbconvert_exporter": "python",
   "pygments_lexer": "ipython3",
   "version": "3.12.0"
  }
 },
 "nbformat": 4,
 "nbformat_minor": 5
}
