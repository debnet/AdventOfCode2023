{
 "cells": [
  {
   "cell_type": "code",
   "execution_count": 1,
   "id": "09f5347f-8422-4b38-9d0e-5b137a6a9e9c",
   "metadata": {},
   "outputs": [],
   "source": [
    "rows = []\n",
    "with open(\"Day12.txt\") as file:\n",
    "    for line in file:\n",
    "        a, b = line.strip().split()\n",
    "        rows.append((a, tuple(map(int, b.split(\",\")))))"
   ]
  },
  {
   "cell_type": "code",
   "execution_count": 2,
   "id": "87cd7deb-2874-4a1e-8808-8d7ce2842776",
   "metadata": {},
   "outputs": [],
   "source": [
    "from functools import cache\n",
    "\n",
    "@cache\n",
    "def solve(pattern, sizes, done=0):\n",
    "    if not pattern:\n",
    "        return not sizes and not done\n",
    "    result = 0\n",
    "    pattern = pattern if pattern.endswith(\".\") else pattern + \".\"\n",
    "    if pattern.startswith(\"?\"):\n",
    "        cells = \".#\"\n",
    "    else:\n",
    "        cells = pattern[:1]\n",
    "    for cell in cells:\n",
    "        if cell == \"#\":\n",
    "            result += solve(pattern[1:], sizes, done + 1)\n",
    "        elif done and sizes and sizes[0] == done:\n",
    "            result += solve(pattern[1:], sizes[1:])\n",
    "        elif not done:\n",
    "            result += solve(pattern[1:], sizes)\n",
    "    return result"
   ]
  },
  {
   "cell_type": "code",
   "execution_count": 3,
   "id": "a4f3511c-cc17-4a27-87f2-798ff9fd0859",
   "metadata": {},
   "outputs": [
    {
     "data": {
      "text/plain": [
       "7716"
      ]
     },
     "execution_count": 3,
     "metadata": {},
     "output_type": "execute_result"
    }
   ],
   "source": [
    "sum(solve(group, sizes) for group, sizes in rows)"
   ]
  },
  {
   "cell_type": "code",
   "execution_count": 4,
   "id": "ee69f69d-b62e-4e45-9a13-0c1e923a5725",
   "metadata": {},
   "outputs": [
    {
     "name": "stdout",
     "output_type": "stream",
     "text": [
      "CPU times: user 2.94 s, sys: 282 ms, total: 3.22 s\n",
      "Wall time: 3.26 s\n"
     ]
    },
    {
     "data": {
      "text/plain": [
       "18716325559999"
      ]
     },
     "execution_count": 4,
     "metadata": {},
     "output_type": "execute_result"
    }
   ],
   "source": [
    "%%time\n",
    "sum(solve(\"?\".join([group] * 5), sizes * 5) for group, sizes in rows)"
   ]
  }
 ],
 "metadata": {
  "kernelspec": {
   "display_name": "Python 3 (ipykernel)",
   "language": "python",
   "name": "python3"
  },
  "language_info": {
   "codemirror_mode": {
    "name": "ipython",
    "version": 3
   },
   "file_extension": ".py",
   "mimetype": "text/x-python",
   "name": "python",
   "nbconvert_exporter": "python",
   "pygments_lexer": "ipython3",
   "version": "3.12.0"
  }
 },
 "nbformat": 4,
 "nbformat_minor": 5
}
