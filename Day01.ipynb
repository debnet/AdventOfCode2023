{
 "cells": [
  {
   "cell_type": "code",
   "execution_count": 1,
   "id": "de83bbc2-7691-446a-8521-97a08d76aeba",
   "metadata": {},
   "outputs": [],
   "source": [
    "with open(\"Day01.txt\") as file:\n",
    "    lines = file.read().split()"
   ]
  },
  {
   "cell_type": "code",
   "execution_count": 2,
   "id": "66f4ada4-8d9b-4b92-a01b-0f91257e5746",
   "metadata": {},
   "outputs": [],
   "source": [
    "import re"
   ]
  },
  {
   "cell_type": "code",
   "execution_count": 3,
   "id": "5cd371c4-c0f5-4fbe-9b6b-f3cdf7480f26",
   "metadata": {},
   "outputs": [
    {
     "data": {
      "text/plain": [
       "55386"
      ]
     },
     "execution_count": 3,
     "metadata": {},
     "output_type": "execute_result"
    }
   ],
   "source": [
    "digit_regex = re.compile(r\"\\d\")\n",
    "digits = [digit_regex.findall(line) for line in lines]\n",
    "calibration = [int(digit[0] + digit[-1]) for digit in digits]\n",
    "sum(calibration)"
   ]
  },
  {
   "cell_type": "code",
   "execution_count": 4,
   "id": "0aac982d-c47d-4ce7-bbe0-8836f0d74e5b",
   "metadata": {},
   "outputs": [
    {
     "data": {
      "text/plain": [
       "54824"
      ]
     },
     "execution_count": 4,
     "metadata": {},
     "output_type": "execute_result"
    }
   ],
   "source": [
    "digit_table = {\"one\": \"1\", \"two\": \"2\", \"three\": \"3\", \"four\": \"4\", \"five\": \"5\", \"six\": \"6\", \"seven\": \"7\", \"eight\": \"8\", \"nine\": \"9\"}\n",
    "digit_regex = re.compile(rf\"(?=(\\d|{'|'.join(digit_table)}))\")\n",
    "digits = [[digit_table.get(digit, digit) for digit in digit_regex.findall(line)] for line in lines]\n",
    "calibration = [int(digit[0] + digit[-1]) for digit in digits]\n",
    "sum(calibration)"
   ]
  }
 ],
 "metadata": {
  "kernelspec": {
   "display_name": "Python 3 (ipykernel)",
   "language": "python",
   "name": "python3"
  },
  "language_info": {
   "codemirror_mode": {
    "name": "ipython",
    "version": 3
   },
   "file_extension": ".py",
   "mimetype": "text/x-python",
   "name": "python",
   "nbconvert_exporter": "python",
   "pygments_lexer": "ipython3",
   "version": "3.12.0"
  }
 },
 "nbformat": 4,
 "nbformat_minor": 5
}
