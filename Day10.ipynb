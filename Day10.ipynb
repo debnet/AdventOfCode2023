{
 "cells": [
  {
   "cell_type": "code",
   "execution_count": 1,
   "id": "b3c25958-9994-4042-aacd-831ad2297072",
   "metadata": {},
   "outputs": [],
   "source": [
    "REPLACE = {\"S\": \"╬\", \"-\": \"═\", \"|\": \"║\", \"L\": \"╚\", \"J\": \"╝\", \"7\": \"╗\", \"F\": \"╔\", \".\": \" \"}\n",
    "grid, start, w, h = {}, None, 0, 0\n",
    "with open(\"Day10.txt\") as file:\n",
    "    for y, line in enumerate(file):\n",
    "        for x, pipe in enumerate(line.strip()):\n",
    "            x, y = max(w, x), max(h, y)\n",
    "            if pipe == \"S\":\n",
    "                start = x, y\n",
    "            grid[x, y] = REPLACE[pipe]"
   ]
  },
  {
   "cell_type": "code",
   "execution_count": 2,
   "id": "b68b50e8-308e-4e13-b379-5e8873cf4aaa",
   "metadata": {},
   "outputs": [
    {
     "name": "stdout",
     "output_type": "stream",
     "text": [
      "CPU times: user 23.8 ms, sys: 832 µs, total: 24.6 ms\n",
      "Wall time: 24.6 ms\n"
     ]
    },
    {
     "data": {
      "text/plain": [
       "6640"
      ]
     },
     "execution_count": 2,
     "metadata": {},
     "output_type": "execute_result"
    }
   ],
   "source": [
    "%%time\n",
    "DIRECTIONS = {\n",
    "    \"╬\": {(-1, +0): \"═╚╔\", (+1, +0): \"═╝╗\", (+0, -1): \"║╔╗\", (+0, +1): \"║╚╝\"},\n",
    "    \"═\": {(-1, +0): \"═╚╔\", (+1, +0): \"═╝╗\"},\n",
    "    \"║\": {(+0, -1): \"║╔╗\", (+0, +1): \"║╚╝\"},\n",
    "    \"╚\": {(+0, -1): \"║╔╗\", (+1, +0): \"═╝╗\"},\n",
    "    \"╝\": {(+0, -1): \"║╔╗\", (-1, +0): \"═╚╔\"},\n",
    "    \"╗\": {(+0, +1): \"║╚╝\", (-1, +0): \"═╚╔\"},\n",
    "    \"╔\": {(+0, +1): \"║╚╝\", (+1, +0): \"═╝╗\"},\n",
    "}\n",
    "\n",
    "node, nodes, path = start, {start}, [start]\n",
    "while True:\n",
    "    (x, y), pipe = node, grid.get(node)\n",
    "    for (sx, sy), pipes in DIRECTIONS[pipe].items():\n",
    "        next_node = (x + sx, y + sy)\n",
    "        if next_node in nodes:\n",
    "            continue\n",
    "        if (next_pipe := grid.get(next_node)) in pipes:\n",
    "            node = next_node\n",
    "            nodes.add(next_node)\n",
    "            path.append(next_node)\n",
    "            break\n",
    "    else:\n",
    "        break\n",
    "len(path) // 2"
   ]
  },
  {
   "cell_type": "code",
   "execution_count": 3,
   "id": "c852643f-f1a8-40ac-a724-1fcd0b4c08ac",
   "metadata": {},
   "outputs": [
    {
     "name": "stdout",
     "output_type": "stream",
     "text": [
      "CPU times: user 1min 28s, sys: 455 ms, total: 1min 28s\n",
      "Wall time: 1min 28s\n"
     ]
    },
    {
     "data": {
      "text/plain": [
       "411"
      ]
     },
     "execution_count": 3,
     "metadata": {},
     "output_type": "execute_result"
    }
   ],
   "source": [
    "%%time\n",
    "from shapely import Polygon, Point\n",
    "\n",
    "poly = Polygon(path)\n",
    "sum(1 for x, y in grid if Point(x, y).within(poly))"
   ]
  }
 ],
 "metadata": {
  "kernelspec": {
   "display_name": "Python 3 (ipykernel)",
   "language": "python",
   "name": "python3"
  },
  "language_info": {
   "codemirror_mode": {
    "name": "ipython",
    "version": 3
   },
   "file_extension": ".py",
   "mimetype": "text/x-python",
   "name": "python",
   "nbconvert_exporter": "python",
   "pygments_lexer": "ipython3",
   "version": "3.12.0"
  }
 },
 "nbformat": 4,
 "nbformat_minor": 5
}
