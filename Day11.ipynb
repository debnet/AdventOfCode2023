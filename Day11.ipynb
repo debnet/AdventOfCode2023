{
 "cells": [
  {
   "cell_type": "code",
   "execution_count": 1,
   "id": "d26d8763-6161-44cd-9580-aa31ba8926c9",
   "metadata": {},
   "outputs": [],
   "source": [
    "galaxies, empty_x, empty_y = [], {}, {}\n",
    "with open(\"Day11.txt\") as file:\n",
    "    for y, line in enumerate(file):\n",
    "        empty_y[y] = True\n",
    "        for x, cell in enumerate(line.strip()):\n",
    "            empty_x.setdefault(x, True)\n",
    "            if cell == \".\":\n",
    "                continue\n",
    "            galaxies.append([x, y])\n",
    "            empty_x[x] &= False\n",
    "            empty_y[y] &= False"
   ]
  },
  {
   "cell_type": "code",
   "execution_count": 2,
   "id": "066303db-9ef9-4a89-899a-e55ca9c38ba2",
   "metadata": {},
   "outputs": [],
   "source": [
    "def expand(galaxies, factor=1):\n",
    "    factor = max(1, factor - 1)\n",
    "    galaxies = [galaxy[::] for galaxy in galaxies]\n",
    "    for galaxy in galaxies:\n",
    "        gx, gy = galaxy\n",
    "        ex, ey = (\n",
    "            sum(v for x, v in empty_x.items() if gx >= x), \n",
    "            sum(v for y, v in empty_y.items() if gy >= y),\n",
    "        )\n",
    "        galaxy[0] = gx + ex * factor\n",
    "        galaxy[1] = gy + ey * factor\n",
    "    return galaxies\n",
    "\n",
    "def distance(a, b):\n",
    "    return sum(abs(v1 - v2) for v1, v2 in zip(a, b))"
   ]
  },
  {
   "cell_type": "code",
   "execution_count": 3,
   "id": "70e5ee37-4127-47a0-bd53-f194d81ea916",
   "metadata": {},
   "outputs": [
    {
     "data": {
      "text/plain": [
       "10077850"
      ]
     },
     "execution_count": 3,
     "metadata": {},
     "output_type": "execute_result"
    }
   ],
   "source": [
    "from itertools import combinations\n",
    "\n",
    "sum(distance(a, b) for a, b in combinations(expand(galaxies), r=2))"
   ]
  },
  {
   "cell_type": "code",
   "execution_count": 4,
   "id": "7d84d943-cb8a-450b-8da2-dddfb9b4690b",
   "metadata": {},
   "outputs": [
    {
     "data": {
      "text/plain": [
       "504715068438"
      ]
     },
     "execution_count": 4,
     "metadata": {},
     "output_type": "execute_result"
    }
   ],
   "source": [
    "sum(distance(a, b) for a, b in combinations(expand(galaxies, factor=1000000), r=2))"
   ]
  }
 ],
 "metadata": {
  "kernelspec": {
   "display_name": "Python 3 (ipykernel)",
   "language": "python",
   "name": "python3"
  },
  "language_info": {
   "codemirror_mode": {
    "name": "ipython",
    "version": 3
   },
   "file_extension": ".py",
   "mimetype": "text/x-python",
   "name": "python",
   "nbconvert_exporter": "python",
   "pygments_lexer": "ipython3",
   "version": "3.12.0"
  }
 },
 "nbformat": 4,
 "nbformat_minor": 5
}
