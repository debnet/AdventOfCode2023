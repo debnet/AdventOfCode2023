{
 "cells": [
  {
   "cell_type": "code",
   "execution_count": 1,
   "id": "54a7f04f-d2c5-40c2-9dc6-d8170b5d118f",
   "metadata": {},
   "outputs": [],
   "source": [
    "modules = {}\n",
    "with open(\"Day20.txt\") as file:\n",
    "    for line in file.read().splitlines():\n",
    "        name, outputs = line.split(\" -> \")\n",
    "        if name[0] in \"%&\":\n",
    "            modules[name[1:]] = (name[0], outputs.split(\", \"))\n",
    "        else:\n",
    "            modules[name] = ('', outputs.split(\", \"))\n",
    "\n",
    "inputs = {\n",
    "    name: [\n",
    "        input for input, (_, outputs) \n",
    "        in modules.items() if name in outputs\n",
    "    ] for name in set(modules) | {\"rx\"}}\n",
    "init_states = lambda: {\n",
    "    name: 0 if module == \"%\" else dict.fromkeys(inputs[name], 0) \n",
    "    for name, (module, _) in modules.items() if module}"
   ]
  },
  {
   "cell_type": "code",
   "execution_count": 2,
   "id": "bef8706a-372d-48cb-b123-8dfa82109aab",
   "metadata": {},
   "outputs": [],
   "source": [
    "from collections import deque\n",
    "\n",
    "def cycle(states, feedback, *extra):\n",
    "    queue = deque([(\"button\", \"broadcaster\", 0)])\n",
    "    while queue:\n",
    "        source, target, signal = queue.popleft()\n",
    "        feedback(target, signal, *extra)\n",
    "        if target not in modules:\n",
    "            continue\n",
    "        module, outputs = modules[target]\n",
    "        if module == \"%\":\n",
    "            if signal:\n",
    "                continue\n",
    "            states[target] ^= 1\n",
    "            output_signal = states[target]\n",
    "        elif module == \"&\":\n",
    "            state = states[target]\n",
    "            state[source] = signal\n",
    "            output_signal = int(not all(state.values()))\n",
    "        else:\n",
    "            output_signal = signal\n",
    "        queue.extend((target, output, output_signal) for output in outputs)"
   ]
  },
  {
   "cell_type": "code",
   "execution_count": 3,
   "id": "63a4de20-550b-431b-aedd-49b327a29dfa",
   "metadata": {},
   "outputs": [
    {
     "data": {
      "text/plain": [
       "680278040"
      ]
     },
     "execution_count": 3,
     "metadata": {},
     "output_type": "execute_result"
    }
   ],
   "source": [
    "from math import prod\n",
    "\n",
    "signals = [0, 0]\n",
    "def feedback(target, signal, *extra):\n",
    "    signals[signal] += 1\n",
    "\n",
    "states = init_states()\n",
    "for _ in range(1000):\n",
    "    cycle(states, feedback)\n",
    "prod(signals)"
   ]
  },
  {
   "cell_type": "code",
   "execution_count": 4,
   "id": "526be1f5-bee2-466b-b834-e3c28ce93fb4",
   "metadata": {},
   "outputs": [
    {
     "data": {
      "text/plain": [
       "243548140870057"
      ]
     },
     "execution_count": 4,
     "metadata": {},
     "output_type": "execute_result"
    }
   ],
   "source": [
    "from itertools import count\n",
    "from math import lcm\n",
    "\n",
    "presses, (input, ) = [], inputs[\"rx\"]\n",
    "def feedback(target, signal, press):\n",
    "    if signal and target == input:\n",
    "        presses.append(press)\n",
    "\n",
    "states = init_states()\n",
    "for press in count(1):\n",
    "    cycle(states, feedback, press)\n",
    "    if len(presses) == len(states[input]):\n",
    "        break\n",
    "lcm(*presses)"
   ]
  }
 ],
 "metadata": {
  "kernelspec": {
   "display_name": "Python 3 (ipykernel)",
   "language": "python",
   "name": "python3"
  },
  "language_info": {
   "codemirror_mode": {
    "name": "ipython",
    "version": 3
   },
   "file_extension": ".py",
   "mimetype": "text/x-python",
   "name": "python",
   "nbconvert_exporter": "python",
   "pygments_lexer": "ipython3",
   "version": "3.12.1"
  }
 },
 "nbformat": 4,
 "nbformat_minor": 5
}
