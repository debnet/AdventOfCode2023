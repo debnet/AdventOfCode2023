{
 "cells": [
  {
   "cell_type": "code",
   "execution_count": 1,
   "id": "9f5679b0-784f-4541-9cab-9a1a55bcfca1",
   "metadata": {},
   "outputs": [],
   "source": [
    "import re\n",
    "\n",
    "numbers, symbols, numbers_by_coords = [], [], {}\n",
    "with open(\"Day03.txt\") as file:\n",
    "    for y, line in enumerate(file):\n",
    "        number, coords = \"\", []\n",
    "        for x, char in enumerate(line.strip()):\n",
    "            if match := re.match(r\"[^\\d]\", char):\n",
    "                if number:\n",
    "                    numbers.append((int(number), tuple(coords)))\n",
    "                    number, coords = \"\", []\n",
    "                if match.group() != \".\":\n",
    "                    symbols.append((match.group(), (x, y)))\n",
    "                continue\n",
    "            if match := re.match(r\"\\d\", char):\n",
    "                number += match.group()\n",
    "                numbers_by_coords[x, y] = len(numbers)\n",
    "                coords.append((x, y))\n",
    "        if number:\n",
    "            numbers.append((int(number), tuple(coords)))"
   ]
  },
  {
   "cell_type": "code",
   "execution_count": 2,
   "id": "fc839d6f-23b0-451f-b11f-72b55f4177d8",
   "metadata": {},
   "outputs": [
    {
     "data": {
      "text/plain": [
       "544664"
      ]
     },
     "execution_count": 2,
     "metadata": {},
     "output_type": "execute_result"
    }
   ],
   "source": [
    "neighbours = set()\n",
    "for symbol, (x, y) in symbols:\n",
    "    for iy in (-1, 0, 1):\n",
    "        for ix in (-1, 0, 1):\n",
    "            if (pos := numbers_by_coords.get((x + ix, y + iy))) is None:\n",
    "                continue\n",
    "            neighbours.add(pos)\n",
    "sum(n for i, (n, coords) in enumerate(numbers) if i in neighbours)"
   ]
  },
  {
   "cell_type": "code",
   "execution_count": 3,
   "id": "46182749-3fa8-494e-ae79-127dcd57dbd8",
   "metadata": {},
   "outputs": [
    {
     "data": {
      "text/plain": [
       "84495585"
      ]
     },
     "execution_count": 3,
     "metadata": {},
     "output_type": "execute_result"
    }
   ],
   "source": [
    "from math import prod\n",
    "\n",
    "ratios = []\n",
    "for symbol, (x, y) in symbols:\n",
    "    if symbol != \"*\":\n",
    "        continue\n",
    "    gear = set()\n",
    "    for iy in (-1, 0, 1):\n",
    "        for ix in (-1, 0, 1):\n",
    "            if (pos := numbers_by_coords.get((x + ix, y + iy))) is None:\n",
    "                continue\n",
    "            gear.add(pos)\n",
    "    if len(gear) != 2:\n",
    "        continue\n",
    "    ratio = prod(n for i, (n, coords) in enumerate(numbers) if i in gear)\n",
    "    ratios.append(ratio)\n",
    "sum(ratios)"
   ]
  }
 ],
 "metadata": {
  "kernelspec": {
   "display_name": "Python 3 (ipykernel)",
   "language": "python",
   "name": "python3"
  },
  "language_info": {
   "codemirror_mode": {
    "name": "ipython",
    "version": 3
   },
   "file_extension": ".py",
   "mimetype": "text/x-python",
   "name": "python",
   "nbconvert_exporter": "python",
   "pygments_lexer": "ipython3",
   "version": "3.12.0"
  }
 },
 "nbformat": 4,
 "nbformat_minor": 5
}
