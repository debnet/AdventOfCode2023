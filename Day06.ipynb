{
 "cells": [
  {
   "cell_type": "code",
   "execution_count": 1,
   "id": "93aaf0bb-b667-4583-94ca-bf667125d510",
   "metadata": {},
   "outputs": [],
   "source": [
    "import re\n",
    "\n",
    "with open(\"Day06.txt\") as file:\n",
    "    data = tuple(zip(*(tuple(map(int, re.findall(r\"\\d+\", line))) for line in file)))"
   ]
  },
  {
   "cell_type": "code",
   "execution_count": 2,
   "id": "d161029c-ecdf-4051-aa99-fbc9bfd14053",
   "metadata": {},
   "outputs": [
    {
     "data": {
      "text/plain": [
       "275724"
      ]
     },
     "execution_count": 2,
     "metadata": {},
     "output_type": "execute_result"
    }
   ],
   "source": [
    "from math import prod\n",
    "\n",
    "def compute(time, distance):\n",
    "    return time - 2 * int(time / 2 - (time ** 2 / 4 - distance) ** 0.5) - 1\n",
    "\n",
    "prod(compute(time, distance) for time, distance in data)"
   ]
  },
  {
   "cell_type": "code",
   "execution_count": 3,
   "id": "4831a234-f0ad-47ed-b632-a6504aaf9308",
   "metadata": {},
   "outputs": [
    {
     "data": {
      "text/plain": [
       "37286485"
      ]
     },
     "execution_count": 3,
     "metadata": {},
     "output_type": "execute_result"
    }
   ],
   "source": [
    "time, distance = int(\"\".join(str(a) for a, b in data)), int(\"\".join(str(b) for a, b in data))\n",
    "compute(time, distance)"
   ]
  }
 ],
 "metadata": {
  "kernelspec": {
   "display_name": "Python 3 (ipykernel)",
   "language": "python",
   "name": "python3"
  },
  "language_info": {
   "codemirror_mode": {
    "name": "ipython",
    "version": 3
   },
   "file_extension": ".py",
   "mimetype": "text/x-python",
   "name": "python",
   "nbconvert_exporter": "python",
   "pygments_lexer": "ipython3",
   "version": "3.12.0"
  }
 },
 "nbformat": 4,
 "nbformat_minor": 5
}
