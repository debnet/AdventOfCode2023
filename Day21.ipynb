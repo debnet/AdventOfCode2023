{
 "cells": [
  {
   "cell_type": "code",
   "execution_count": 1,
   "id": "770614ce-a277-4d86-b003-a0fbfaca1efa",
   "metadata": {},
   "outputs": [],
   "source": [
    "start, grid = (0, 0), set()\n",
    "with open(\"Day21.txt\") as file:\n",
    "    for y, line in enumerate(file):\n",
    "        for x, char in enumerate(line.strip()):\n",
    "            if char == \"#\":\n",
    "                continue\n",
    "            if char == \"S\":\n",
    "                start = (x, y)\n",
    "            grid.add((x, y))\n",
    "width, height = x + 1, y + 1"
   ]
  },
  {
   "cell_type": "code",
   "execution_count": 2,
   "id": "964c46c4-8521-4422-8ada-5bb8d5c6e95e",
   "metadata": {},
   "outputs": [],
   "source": [
    "from collections import deque\n",
    "\n",
    "def solve(grid, steps):\n",
    "    reachable, visited = set(), set()\n",
    "    directions = ((-1, 0), (+1, 0), (0, -1), (0, +1))\n",
    "    queue = deque([(*start, 0)])\n",
    "    while queue:\n",
    "        x, y, step = queue.popleft()\n",
    "        if (x, y) in visited or step > steps:\n",
    "            continue\n",
    "        visited.add((x, y))\n",
    "        for sx, sy in directions:\n",
    "            nx, ny = x + sx, y + sy\n",
    "            if not (nx, ny) in grid:\n",
    "                continue\n",
    "            queue.append((nx, ny, step + 1))\n",
    "            visited.discard((nx, ny))\n",
    "            if step + 1 != steps:\n",
    "                continue\n",
    "            reachable.add((nx, ny))\n",
    "    return len(reachable)"
   ]
  },
  {
   "cell_type": "code",
   "execution_count": 3,
   "id": "83b551a5-f695-4062-8b50-8bbe80aeed8b",
   "metadata": {},
   "outputs": [
    {
     "data": {
      "text/plain": [
       "3809"
      ]
     },
     "execution_count": 3,
     "metadata": {},
     "output_type": "execute_result"
    }
   ],
   "source": [
    "solve(grid, 64)"
   ]
  },
  {
   "cell_type": "code",
   "execution_count": 4,
   "id": "8271b573-b6ee-4129-827e-1ce0a31c4997",
   "metadata": {},
   "outputs": [
    {
     "name": "stdout",
     "output_type": "stream",
     "text": [
      "CPU times: user 38.6 s, sys: 53.2 ms, total: 38.6 s\n",
      "Wall time: 38.9 s\n"
     ]
    },
    {
     "data": {
      "text/plain": [
       "629720570456311"
      ]
     },
     "execution_count": 4,
     "metadata": {},
     "output_type": "execute_result"
    }
   ],
   "source": [
    "%%time\n",
    "# Disclaimer: not my idea!\n",
    "directions = ((-1, 0), (+1, 0), (0, -1), (0, +1))\n",
    "todo, done = {start}, []\n",
    "for step in range(int(2.5 * width) + 1):\n",
    "    if step % width == width // 2:\n",
    "        done.append(len(todo))\n",
    "    found = set()\n",
    "    for x, y in todo:\n",
    "        for sx, sy in directions:\n",
    "            nx, ny = (x + sx), (y + sy)\n",
    "            if (nx % width, ny % height) not in grid:\n",
    "                continue\n",
    "            found.add((nx, ny))\n",
    "    todo = found\n",
    "n, (a, b, c) = 26_501_365 // width, done\n",
    "a + n * (b - a) + n * (n - 1) // 2 * ((c - b) - (b - a))"
   ]
  }
 ],
 "metadata": {
  "kernelspec": {
   "display_name": "Python 3 (ipykernel)",
   "language": "python",
   "name": "python3"
  },
  "language_info": {
   "codemirror_mode": {
    "name": "ipython",
    "version": 3
   },
   "file_extension": ".py",
   "mimetype": "text/x-python",
   "name": "python",
   "nbconvert_exporter": "python",
   "pygments_lexer": "ipython3",
   "version": "3.12.1"
  }
 },
 "nbformat": 4,
 "nbformat_minor": 5
}
