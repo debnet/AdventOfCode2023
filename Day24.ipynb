{
 "cells": [
  {
   "cell_type": "code",
   "execution_count": 1,
   "id": "6d777d01-4630-4f45-8c2b-6761177b3f7c",
   "metadata": {},
   "outputs": [],
   "source": [
    "from dataclasses import dataclass\n",
    "\n",
    "@dataclass\n",
    "class Hailstone:\n",
    "    px: int\n",
    "    py: int\n",
    "    pz: int\n",
    "    vx: int\n",
    "    vy: int\n",
    "    vz: int\n",
    "    slope: float\n",
    "    intercept: float"
   ]
  },
  {
   "cell_type": "code",
   "execution_count": 2,
   "id": "ea8cdd14-da24-4c0e-9766-bfc1c0ebf1b6",
   "metadata": {},
   "outputs": [],
   "source": [
    "import re\n",
    "\n",
    "hailstones = []\n",
    "with open(\"Day24.txt\") as file:\n",
    "    for line in file:\n",
    "        px, py, pz, vx, vy, vz = map(int, re.findall(r\"-?\\d+\", line))\n",
    "        hailstone = Hailstone(px, py, pz, vx, vy, vz, vy / vx, py - (vy / vx) * px)\n",
    "        hailstones.append(hailstone)"
   ]
  },
  {
   "cell_type": "code",
   "execution_count": 3,
   "id": "97bbfd6f-9a46-4a1d-a5fd-1143171040ae",
   "metadata": {},
   "outputs": [
    {
     "data": {
      "text/plain": [
       "19976"
      ]
     },
     "execution_count": 3,
     "metadata": {},
     "output_type": "execute_result"
    }
   ],
   "source": [
    "from itertools import combinations\n",
    "\n",
    "# Intersection formula decomposition:\n",
    "# 1) ax + b = cx + d\n",
    "# 2) ax - cx = d - b\n",
    "# 3) x(a - c) = d - b\n",
    "# 4) x = (d - b) / (a - c)\n",
    "count = 0\n",
    "tr1, tr2 = (200_000_000_000_000, 400_000_000_000_000)\n",
    "for h1, h2 in combinations(hailstones, 2):\n",
    "    if h1.slope == h2.slope:\n",
    "        continue  # lines are parallel\n",
    "    ix = (h2.intercept - h1.intercept) / (h1.slope - h2.slope)\n",
    "    iy = h1.slope * ix + h1.intercept\n",
    "    t1, t2 = (ix - h1.px) / h1.vx, (ix - h2.px) / h2.vx\n",
    "    if t1 < 0 or t2 < 0:\n",
    "        continue  # behind starting points\n",
    "    count += tr1 <= ix <= tr2 and tr1 <= iy <= tr2\n",
    "count"
   ]
  },
  {
   "cell_type": "code",
   "execution_count": 4,
   "id": "298ac4fe-4264-43db-837b-be834fa3f9d8",
   "metadata": {},
   "outputs": [
    {
     "data": {
      "text/plain": [
       "849377770236905"
      ]
     },
     "execution_count": 4,
     "metadata": {},
     "output_type": "execute_result"
    }
   ],
   "source": [
    "import z3\n",
    "\n",
    "solver = z3.Solver()\n",
    "# variables should be ints but for unknown reason z3 compute waaaaaaaay faster with reals\n",
    "px_, py_, pz_, vx_, vy_, vz_ = z3.Reals(\"px_ py_ pz_ vx_ vy_ vz_\")\n",
    "for i, h in enumerate(hailstones[:3]):  # we only need to solve the equations over 3 hailstones\n",
    "    t_ = z3.Real(f\"t{i}\")\n",
    "    solver.add(t_ > 0)\n",
    "    solver.add(px_ + t_ * vx_ == h.px + t_ * h.vx)\n",
    "    solver.add(py_ + t_ * vy_ == h.py + t_ * h.vy)\n",
    "    solver.add(pz_ + t_ * vz_ == h.pz + t_ * h.vz)\n",
    "solver.check()\n",
    "model = solver.model()\n",
    "sum(model[var].as_long() for var in (px_, py_, pz_))"
   ]
  }
 ],
 "metadata": {
  "kernelspec": {
   "display_name": "Python 3 (ipykernel)",
   "language": "python",
   "name": "python3"
  },
  "language_info": {
   "codemirror_mode": {
    "name": "ipython",
    "version": 3
   },
   "file_extension": ".py",
   "mimetype": "text/x-python",
   "name": "python",
   "nbconvert_exporter": "python",
   "pygments_lexer": "ipython3",
   "version": "3.12.1"
  }
 },
 "nbformat": 4,
 "nbformat_minor": 5
}
