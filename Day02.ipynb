{
 "cells": [
  {
   "cell_type": "code",
   "execution_count": 1,
   "id": "489c9540-fcd5-420a-96f4-bc90abecbaa9",
   "metadata": {},
   "outputs": [],
   "source": [
    "import re\n",
    "\n",
    "games = {}\n",
    "with open(\"Day02.txt\") as file:\n",
    "    for line in file:\n",
    "        line = line.strip()\n",
    "        match = re.match(r\"Game (\\d+): (.*)\", line)\n",
    "        game = games.setdefault(int(match.group(1)), [])\n",
    "        for subline in match.group(2).split(\"; \"):\n",
    "            subset = {}\n",
    "            for count, color in re.findall(r\"(\\d+) (\\w+)\", subline):\n",
    "                subset[color] = int(count)\n",
    "            game.append(subset)"
   ]
  },
  {
   "cell_type": "code",
   "execution_count": 2,
   "id": "17baeab4-bc36-495e-8bdf-103e1784e48b",
   "metadata": {},
   "outputs": [
    {
     "data": {
      "text/plain": [
       "2278"
      ]
     },
     "execution_count": 2,
     "metadata": {},
     "output_type": "execute_result"
    }
   ],
   "source": [
    "predicates = {\n",
    "    \"red\": 12,\n",
    "    \"green\": 13,\n",
    "    \"blue\": 14,\n",
    "}\n",
    "valid_games = set()\n",
    "for game_id, subsets in games.items():\n",
    "    valid = True\n",
    "    for subset in subsets:\n",
    "        for color, limit in predicates.items():\n",
    "            if subset.get(color, 0) > limit:\n",
    "                valid = False\n",
    "                break\n",
    "        if not valid:\n",
    "            break\n",
    "    else:\n",
    "        valid_games.add(game_id)\n",
    "sum(valid_games)"
   ]
  },
  {
   "cell_type": "code",
   "execution_count": 3,
   "id": "4bc62ddb-3fe5-4d77-8d38-01be678d7b91",
   "metadata": {},
   "outputs": [
    {
     "data": {
      "text/plain": [
       "67953"
      ]
     },
     "execution_count": 3,
     "metadata": {},
     "output_type": "execute_result"
    }
   ],
   "source": [
    "from math import prod\n",
    "\n",
    "game_powers = {}\n",
    "for game_id, subsets in games.items():\n",
    "    minimums = {}\n",
    "    for subset in subsets:\n",
    "        for color, count in subset.items():\n",
    "            minimum = minimums.get(color, 0)\n",
    "            minimums[color] = max(count, minimum)\n",
    "    game_powers[game_id] = prod(minimums.values())\n",
    "sum(game_powers.values())"
   ]
  }
 ],
 "metadata": {
  "kernelspec": {
   "display_name": "Python 3 (ipykernel)",
   "language": "python",
   "name": "python3"
  },
  "language_info": {
   "codemirror_mode": {
    "name": "ipython",
    "version": 3
   },
   "file_extension": ".py",
   "mimetype": "text/x-python",
   "name": "python",
   "nbconvert_exporter": "python",
   "pygments_lexer": "ipython3",
   "version": "3.12.0"
  }
 },
 "nbformat": 4,
 "nbformat_minor": 5
}
