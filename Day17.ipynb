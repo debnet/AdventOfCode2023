{
 "cells": [
  {
   "cell_type": "code",
   "execution_count": 1,
   "id": "afeed896-89e0-4aa6-8733-34e15fa28956",
   "metadata": {},
   "outputs": [],
   "source": [
    "grid, MAX_X, MAX_Y = {}, 0, 0\n",
    "with open(\"Day17.txt\") as file:\n",
    "    for y, line in enumerate(file):\n",
    "        MAX_Y = max(MAX_Y, y)\n",
    "        for x, value in enumerate(line.strip()):\n",
    "            MAX_X = max(MAX_X, x)\n",
    "            grid[x, y] = int(value)"
   ]
  },
  {
   "cell_type": "code",
   "execution_count": 2,
   "id": "c348feb5-fcac-43d1-be99-92e0288a6230",
   "metadata": {},
   "outputs": [],
   "source": [
    "from heapq import heappop as pop, heappush as push\n",
    "\n",
    "START, STOP = (0, 0), (MAX_X, MAX_Y)\n",
    "RIGHT, DOWN, LEFT, UP = ((+1, 0), (0, +1), (-1, 0), (0, -1))\n",
    "DIRECTIONS = (RIGHT, DOWN, LEFT, UP)\n",
    "\n",
    "def solve(grid, min_count, max_count):\n",
    "    visited = set()\n",
    "    paths = [\n",
    "        # cost, (x, y), (dx, dy), dir. count\n",
    "        (0, START, RIGHT, 1),  # right\n",
    "        (0, START, DOWN, 1),  # down\n",
    "    ]\n",
    "    while paths:\n",
    "        cost, position, direction, count = pop(paths)\n",
    "        (x, y), (dx, dy) = position, direction\n",
    "        if (position, direction, count) in visited:\n",
    "            continue  # cell already visited from the same direction\n",
    "        visited.add((position, direction, count))\n",
    "        next_position = nx, ny = x + dx, y + dy\n",
    "        if nx < 0 or nx > MAX_X or ny < 0 or ny > MAX_Y:\n",
    "            continue  # outside of the grid\n",
    "        next_cost = cost + grid[next_position]\n",
    "        if min_count <= count <= max_count and next_position == STOP:\n",
    "            return next_cost  # path arrived at the end with valid same direction count\n",
    "        for next_direction in DIRECTIONS:\n",
    "            ndx, ndy = next_direction\n",
    "            if ndx + dx == ndy + dy == 0:\n",
    "                continue  # no returning back\n",
    "            next_count = count + 1 if next_direction == direction else 1\n",
    "            if (next_direction != direction and count < min_count) or next_count > max_count:\n",
    "                continue  # invalid same direction count\n",
    "            push(paths, (next_cost, next_position, next_direction, next_count))"
   ]
  },
  {
   "cell_type": "code",
   "execution_count": 3,
   "id": "e41e71bf-3257-4002-956e-078018597023",
   "metadata": {},
   "outputs": [
    {
     "name": "stdout",
     "output_type": "stream",
     "text": [
      "CPU times: user 1.57 s, sys: 19.9 ms, total: 1.59 s\n",
      "Wall time: 1.59 s\n"
     ]
    },
    {
     "data": {
      "text/plain": [
       "698"
      ]
     },
     "execution_count": 3,
     "metadata": {},
     "output_type": "execute_result"
    }
   ],
   "source": [
    "%%time\n",
    "solve(grid, 1, 3)"
   ]
  },
  {
   "cell_type": "code",
   "execution_count": 4,
   "id": "a623e404-934a-4db4-8d35-ce8f869bbba4",
   "metadata": {},
   "outputs": [
    {
     "name": "stdout",
     "output_type": "stream",
     "text": [
      "CPU times: user 5.19 s, sys: 54.7 ms, total: 5.25 s\n",
      "Wall time: 5.27 s\n"
     ]
    },
    {
     "data": {
      "text/plain": [
       "825"
      ]
     },
     "execution_count": 4,
     "metadata": {},
     "output_type": "execute_result"
    }
   ],
   "source": [
    "%%time\n",
    "solve(grid, 4, 10)"
   ]
  }
 ],
 "metadata": {
  "kernelspec": {
   "display_name": "Python 3 (ipykernel)",
   "language": "python",
   "name": "python3"
  },
  "language_info": {
   "codemirror_mode": {
    "name": "ipython",
    "version": 3
   },
   "file_extension": ".py",
   "mimetype": "text/x-python",
   "name": "python",
   "nbconvert_exporter": "python",
   "pygments_lexer": "ipython3",
   "version": "3.12.0"
  }
 },
 "nbformat": 4,
 "nbformat_minor": 5
}
