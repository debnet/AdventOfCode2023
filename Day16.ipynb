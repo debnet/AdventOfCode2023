{
 "cells": [
  {
   "cell_type": "code",
   "execution_count": 1,
   "id": "8e86e556-9bd8-45fa-b1fe-cd858af1a9a5",
   "metadata": {},
   "outputs": [],
   "source": [
    "grid, maxx, maxy = {}, 0, 0\n",
    "with open(\"Day16.txt\") as file:\n",
    "    for y, line in enumerate(file):\n",
    "        maxy = max(maxy, y)\n",
    "        for x, char in enumerate(line.strip()):\n",
    "            maxx = max(maxx, y)\n",
    "            if char == \".\":\n",
    "                continue\n",
    "            grid[x, y] = char"
   ]
  },
  {
   "cell_type": "code",
   "execution_count": 2,
   "id": "e39dc0dc-3791-4995-a45e-eafbae3b13cb",
   "metadata": {},
   "outputs": [],
   "source": [
    "MIRRORS = {\n",
    "    \"/\": {\n",
    "        (-1, 0): (0, +1),\n",
    "        (+1, 0): (0, -1),\n",
    "        (0, -1): (+1, 0),\n",
    "        (0, +1): (-1, 0),\n",
    "    },\n",
    "    \"\\\\\": {\n",
    "        (-1, 0): (0, -1),\n",
    "        (+1, 0): (0, +1),\n",
    "        (0, -1): (-1, 0),\n",
    "        (0, +1): (+1, 0),\n",
    "    },\n",
    "}\n",
    "\n",
    "def solve(start, direction):\n",
    "    energized, visited = set(), set()\n",
    "    beams = [(start, direction)]\n",
    "    while beams:\n",
    "        position, direction = beams.pop()\n",
    "        (x, y), (sx, sy) = position, direction\n",
    "        visited.add((position, direction))\n",
    "        x, y = next_position = (x + sx, y + sy)\n",
    "        if x < 0 or x > maxx or y < 0 or y > maxy:\n",
    "            continue\n",
    "        energized.add((x, y))\n",
    "        next_directions = []\n",
    "        match grid.get((x, y), \".\"):\n",
    "            case \".\":\n",
    "                next_directions.append(direction)\n",
    "            case \"-\":\n",
    "                if not sy:\n",
    "                    next_directions.append(direction)\n",
    "                else:\n",
    "                    next_directions.append((-1, 0))\n",
    "                    next_directions.append((+1, 0))\n",
    "            case \"|\":\n",
    "                if not sx:\n",
    "                    next_directions.append(direction)\n",
    "                else:\n",
    "                    next_directions.append((0, -1))\n",
    "                    next_directions.append((0, +1))\n",
    "            case mirror:\n",
    "                next_directions.append(MIRRORS[mirror][direction])\n",
    "        for next_direction in next_directions:\n",
    "            if (next_position, next_direction) in visited:\n",
    "                continue\n",
    "            beams.append((next_position, next_direction))\n",
    "    return len(energized)"
   ]
  },
  {
   "cell_type": "code",
   "execution_count": 3,
   "id": "c852d959-5096-49cb-b269-f3af2d8e85f1",
   "metadata": {},
   "outputs": [
    {
     "data": {
      "text/plain": [
       "7185"
      ]
     },
     "execution_count": 3,
     "metadata": {},
     "output_type": "execute_result"
    }
   ],
   "source": [
    "solve((-1, 0), (+1, 0))"
   ]
  },
  {
   "cell_type": "code",
   "execution_count": 4,
   "id": "1a20c4d0-12ab-4a84-aba5-f8e1a42e1a91",
   "metadata": {},
   "outputs": [
    {
     "name": "stdout",
     "output_type": "stream",
     "text": [
      "CPU times: user 4.17 s, sys: 128 ms, total: 4.3 s\n",
      "Wall time: 4.31 s\n"
     ]
    },
    {
     "data": {
      "text/plain": [
       "7616"
      ]
     },
     "execution_count": 4,
     "metadata": {},
     "output_type": "execute_result"
    }
   ],
   "source": [
    "%%time\n",
    "scores = set()\n",
    "for x in range(maxx + 1):\n",
    "    scores.add(solve((x, 0), (0, +1)))\n",
    "    scores.add(solve((x, maxy), (0, -1)))\n",
    "for y in range(maxy + 1):\n",
    "    scores.add(solve((0, y), (+1, 0)))\n",
    "    scores.add(solve((maxx, y), (-1, 0)))\n",
    "max(scores)"
   ]
  }
 ],
 "metadata": {
  "kernelspec": {
   "display_name": "Python 3 (ipykernel)",
   "language": "python",
   "name": "python3"
  },
  "language_info": {
   "codemirror_mode": {
    "name": "ipython",
    "version": 3
   },
   "file_extension": ".py",
   "mimetype": "text/x-python",
   "name": "python",
   "nbconvert_exporter": "python",
   "pygments_lexer": "ipython3",
   "version": "3.12.1"
  }
 },
 "nbformat": 4,
 "nbformat_minor": 5
}
