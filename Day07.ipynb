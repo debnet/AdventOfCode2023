{
 "cells": [
  {
   "cell_type": "code",
   "execution_count": 1,
   "id": "2633fcac-e675-4dc5-a211-1be50bc84d9e",
   "metadata": {},
   "outputs": [],
   "source": [
    "hands1, hands2 = [], []\n",
    "CARDS1 = {\"T\": 10, \"J\": 11, \"Q\": 12, \"K\": 13, \"A\": 14}\n",
    "CARDS2 = {\"T\": 10, \"J\": 00, \"Q\": 12, \"K\": 13, \"A\": 14}\n",
    "with open(\"Day07.txt\") as file:\n",
    "    for line in file:\n",
    "        cards, bid = line.strip().split()\n",
    "        hands1.append((tuple(int(CARDS1.get(card, card)) for card in cards), int(bid)))\n",
    "        hands2.append((tuple(int(CARDS2.get(card, card)) for card in cards), int(bid)))"
   ]
  },
  {
   "cell_type": "code",
   "execution_count": 2,
   "id": "25f2887a-7697-4ebe-b87f-802c6ce61430",
   "metadata": {},
   "outputs": [
    {
     "data": {
      "text/plain": [
       "253933213"
      ]
     },
     "execution_count": 2,
     "metadata": {},
     "output_type": "execute_result"
    }
   ],
   "source": [
    "from collections import Counter\n",
    "\n",
    "VALUES = {(5,): 6, (4,): 5, (2,3): 4, (3,): 3, (2,2): 2, (2,): 1, (): 0}\n",
    "def hand_value(hand):\n",
    "    cards = Counter(hand)\n",
    "    count = tuple(c for c in sorted(cards.values()) if c > 1)\n",
    "    return VALUES[count]\n",
    "\n",
    "hands = [(hand_value(hand), hand, bid) for hand, bid in hands1]\n",
    "sum(rank * bid for rank, (value, hand, bid) in enumerate(sorted(hands), start=1))"
   ]
  },
  {
   "cell_type": "code",
   "execution_count": 3,
   "id": "500a88ef-2a2f-40d2-b902-bfbe6c740eef",
   "metadata": {},
   "outputs": [
    {
     "data": {
      "text/plain": [
       "253473930"
      ]
     },
     "execution_count": 3,
     "metadata": {},
     "output_type": "execute_result"
    }
   ],
   "source": [
    "VALUES = {\n",
    "    ((5,), 0): 6,  # AAAAA\n",
    "    ((4,), 1): 6,  # AAAAJ\n",
    "    ((4,), 0): 5,  # AAAA.\n",
    "    ((2,3), 0): 4, # AAABB\n",
    "    ((3,), 2): 6,  # AAAJJ\n",
    "    ((3,), 1): 5,  # AAAJ.\n",
    "    ((3,), 0): 3,  # AAA..\n",
    "    ((2,2), 1): 4, # AABBJ\n",
    "    ((2,2), 0): 2, # AABB.\n",
    "    ((2,), 3): 6,  # AAJJJ\n",
    "    ((2,), 2): 5,  # AAJJ.\n",
    "    ((2,), 1): 3,  # AAJ..\n",
    "    ((2,), 0): 1,  # AA...\n",
    "    ((), 5): 6,    # JJJJJ\n",
    "    ((), 4): 6,    # JJJJ.\n",
    "    ((), 3): 5,    # JJJ..\n",
    "    ((), 2): 3,    # JJ...\n",
    "    ((), 1): 1,    # J....\n",
    "    ((), 0): 0,    # .....\n",
    "}\n",
    "def hand_value(hand):\n",
    "    cards = Counter(c for c in hand if c)\n",
    "    count = tuple(c for c in sorted(cards.values()) if c > 1)\n",
    "    joker = hand.count(0)\n",
    "    return VALUES[count, joker]\n",
    "\n",
    "hands = [(hand_value(hand), hand, bid) for hand, bid in hands2]\n",
    "sum(rank * bid for rank, (value, hand, bid) in enumerate(sorted(hands), start=1))"
   ]
  }
 ],
 "metadata": {
  "kernelspec": {
   "display_name": "Python 3 (ipykernel)",
   "language": "python",
   "name": "python3"
  },
  "language_info": {
   "codemirror_mode": {
    "name": "ipython",
    "version": 3
   },
   "file_extension": ".py",
   "mimetype": "text/x-python",
   "name": "python",
   "nbconvert_exporter": "python",
   "pygments_lexer": "ipython3",
   "version": "3.12.0"
  }
 },
 "nbformat": 4,
 "nbformat_minor": 5
}
