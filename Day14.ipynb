{
 "cells": [
  {
   "cell_type": "code",
   "execution_count": 1,
   "id": "448dfec7-2ef2-4072-9fb5-250215d8e415",
   "metadata": {},
   "outputs": [],
   "source": [
    "rocks, cubes = set(), set()\n",
    "x_max, y_max = 0, 0\n",
    "with open(\"Day14.txt\") as file:\n",
    "    for y, line in enumerate(file):\n",
    "        y_max = max(y_max, y)\n",
    "        for x, rock in enumerate(line.strip()):\n",
    "            if rock == \"#\":\n",
    "                cubes.add((x, y))\n",
    "            elif rock == \"O\":\n",
    "                rocks.add((x, y))\n",
    "            x_max = max(x_max, x)\n",
    "rocks, cubes = frozenset(rocks), frozenset(cubes)"
   ]
  },
  {
   "cell_type": "code",
   "execution_count": 2,
   "id": "25c21b06-f865-4912-b4cf-59a27cac2871",
   "metadata": {},
   "outputs": [],
   "source": [
    "DIRECTIONS = {\n",
    "    \"N\": lambda r: (+r[1], +r[0]),\n",
    "    \"W\": lambda r: (+r[0], +r[1]),\n",
    "    \"S\": lambda r: (-r[1], +r[0]),\n",
    "    \"E\": lambda r: (-r[0], +r[1]),\n",
    "}\n",
    "MOVES = {\n",
    "    \"N\": lambda x, y: (x, max(y - 1, 0)),\n",
    "    \"W\": lambda x, y: (max(x - 1, 0), y),\n",
    "    \"S\": lambda x, y: (x, min(y + 1, y_max)),\n",
    "    \"E\": lambda x, y: (min(x + 1, x_max), y),\n",
    "}\n",
    "\n",
    "def tilt(rocks, direction=\"N\"):\n",
    "    new_rocks, blockers = set(), set(cubes)\n",
    "    for rock in sorted(rocks, key=DIRECTIONS[direction]):\n",
    "        while True:\n",
    "            new_rock = MOVES[direction](*rock)\n",
    "            if new_rock == rock or new_rock in blockers:\n",
    "                break\n",
    "            rock = new_rock\n",
    "        new_rocks.add(rock)\n",
    "        blockers.add(rock)\n",
    "    return frozenset(new_rocks)"
   ]
  },
  {
   "cell_type": "code",
   "execution_count": 3,
   "id": "d780f4bd-6132-4bc6-b68c-d85ca8cbb274",
   "metadata": {},
   "outputs": [
    {
     "data": {
      "text/plain": [
       "110407"
      ]
     },
     "execution_count": 3,
     "metadata": {},
     "output_type": "execute_result"
    }
   ],
   "source": [
    "sum(y_max - y + 1 for x, y in tilt(rocks))"
   ]
  },
  {
   "cell_type": "code",
   "execution_count": 4,
   "id": "4365666d-cb06-4861-b7cf-31dc6c888125",
   "metadata": {},
   "outputs": [],
   "source": [
    "def spin(rocks, n):\n",
    "    current = rocks\n",
    "    cache = {rocks: 0}\n",
    "    for cycle in range(1, n + 1):\n",
    "        for direction in DIRECTIONS:\n",
    "            current = tilt(current, direction)\n",
    "        if current not in cache:\n",
    "            cache[current] = cycle\n",
    "        else:\n",
    "            value = cache[current]\n",
    "            cycle = value + (n - value) % (cycle - value)\n",
    "            for r, c in cache.items():\n",
    "                if c == cycle:\n",
    "                    return r\n",
    "    return current"
   ]
  },
  {
   "cell_type": "code",
   "execution_count": 5,
   "id": "1f65f6c7-e5b2-43a7-96a5-8a34aa6763dc",
   "metadata": {},
   "outputs": [
    {
     "name": "stdout",
     "output_type": "stream",
     "text": [
      "CPU times: user 3.36 s, sys: 19.8 ms, total: 3.38 s\n",
      "Wall time: 3.4 s\n"
     ]
    },
    {
     "data": {
      "text/plain": [
       "87273"
      ]
     },
     "execution_count": 5,
     "metadata": {},
     "output_type": "execute_result"
    }
   ],
   "source": [
    "%%time\n",
    "sum(y_max - y + 1 for x, y in spin(rocks, n=1_000_000_000))"
   ]
  }
 ],
 "metadata": {
  "kernelspec": {
   "display_name": "Python 3 (ipykernel)",
   "language": "python",
   "name": "python3"
  },
  "language_info": {
   "codemirror_mode": {
    "name": "ipython",
    "version": 3
   },
   "file_extension": ".py",
   "mimetype": "text/x-python",
   "name": "python",
   "nbconvert_exporter": "python",
   "pygments_lexer": "ipython3",
   "version": "3.12.0"
  }
 },
 "nbformat": 4,
 "nbformat_minor": 5
}
