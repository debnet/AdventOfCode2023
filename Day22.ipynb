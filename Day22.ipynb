{
 "cells": [
  {
   "cell_type": "code",
   "execution_count": 1,
   "id": "2f61ffbb-8d90-4853-abad-c59dd70dda07",
   "metadata": {},
   "outputs": [],
   "source": [
    "from dataclasses import dataclass\n",
    "\n",
    "@dataclass(unsafe_hash=True)\n",
    "class Brick:\n",
    "    number: int\n",
    "    x1: int\n",
    "    y1: int\n",
    "    z1: int\n",
    "    x2: int\n",
    "    y2: int\n",
    "    z2: int\n",
    "\n",
    "    @property\n",
    "    def coords(self):\n",
    "        return self.x1, self.y1, self.z1, self.x2, self.y2, self.z2\n",
    "\n",
    "    @property\n",
    "    def cubes(self):\n",
    "        return get_cubes(*self.coords)"
   ]
  },
  {
   "cell_type": "code",
   "execution_count": 2,
   "id": "81465287-0baf-4a79-8678-682122bdfa1a",
   "metadata": {},
   "outputs": [],
   "source": [
    "import re\n",
    "\n",
    "bricks = []\n",
    "with open(\"Day22.txt\") as file:\n",
    "    for number, line in enumerate(file, start=1):\n",
    "        brick = Brick(number, *map(int, re.findall(r\"\\d+\", line)))\n",
    "        bricks.append(brick)"
   ]
  },
  {
   "cell_type": "code",
   "execution_count": 3,
   "id": "c4ec7f50-80a8-4f4e-b75b-259f789329ca",
   "metadata": {},
   "outputs": [],
   "source": [
    "from itertools import product\n",
    "from functools import cache\n",
    "\n",
    "@cache\n",
    "def get_cubes(x1=0, y1=0, z1=0, x2=0, y2=0, z2=0):\n",
    "    xr = range(min(x1, x2), max(x1, x2) + 1)\n",
    "    yr = range(min(y1, y2), max(y1, y2) + 1)\n",
    "    zr = range(min(z1, z2), max(z1, z2) + 1)\n",
    "    return frozenset(product(xr, yr, zr))\n",
    "\n",
    "def get_neighbours(brick, x=0, y=0, z=0):\n",
    "    cubes = get_cubes(brick.x1 + x, brick.y1 + y, brick.z1 + z, brick.x2 + x, brick.y2 + y, brick.z2 + z)\n",
    "    return frozenset(other for other in bricks if other != brick and cubes & other.cubes)"
   ]
  },
  {
   "cell_type": "code",
   "execution_count": 4,
   "id": "71ff5908-93cd-4d6b-afb3-657d56429fd4",
   "metadata": {},
   "outputs": [
    {
     "name": "stdout",
     "output_type": "stream",
     "text": [
      "CPU times: user 5.02 s, sys: 19 ms, total: 5.04 s\n",
      "Wall time: 5.08 s\n"
     ]
    },
    {
     "data": {
      "text/plain": [
       "108359"
      ]
     },
     "execution_count": 4,
     "metadata": {},
     "output_type": "execute_result"
    }
   ],
   "source": [
    "%%time\n",
    "def drop_brick(brick):\n",
    "    height, cubes = 0, brick.cubes\n",
    "    all_other_cubes = frozenset(cube for other in bricks for cube in other.cubes if other != brick)\n",
    "    z1, z2 = brick.z1, brick.z2\n",
    "    while z1 > 0 and z2 > 0 and not cubes & all_other_cubes:\n",
    "        brick.z1, brick.z2 = z1, z2\n",
    "        z1, z2 = z1 - 1, z2 - 1\n",
    "        height += 1\n",
    "        cubes = get_cubes(brick.x1, brick.y1, z1, brick.x2, brick.y2, z2)\n",
    "    return height\n",
    "\n",
    "sum(drop_brick(brick) for brick in sorted(bricks, key=lambda b: max(b.z1, b.z2)))"
   ]
  },
  {
   "cell_type": "code",
   "execution_count": 5,
   "id": "90c0360a-18b9-4965-bc31-175215821863",
   "metadata": {},
   "outputs": [
    {
     "name": "stdout",
     "output_type": "stream",
     "text": [
      "CPU times: user 4.07 s, sys: 2.22 ms, total: 4.08 s\n",
      "Wall time: 4.12 s\n"
     ]
    }
   ],
   "source": [
    "%%time\n",
    "bricks_above, bricks_below = {}, {}\n",
    "for brick in bricks:\n",
    "    bricks_above[brick] = get_neighbours(brick, z=+1)\n",
    "    bricks_below[brick] = get_neighbours(brick, z=-1)"
   ]
  },
  {
   "cell_type": "code",
   "execution_count": 6,
   "id": "8ce4c298-4732-4939-993d-8decda8bfd6b",
   "metadata": {},
   "outputs": [
    {
     "data": {
      "text/plain": [
       "465"
      ]
     },
     "execution_count": 6,
     "metadata": {},
     "output_type": "execute_result"
    }
   ],
   "source": [
    "safe_bricks = set()\n",
    "for brick in bricks:\n",
    "    if all(len(bricks_below[above]) > 1 for above in bricks_above[brick]):\n",
    "        safe_bricks.add(brick)\n",
    "len(safe_bricks)"
   ]
  },
  {
   "cell_type": "code",
   "execution_count": 7,
   "id": "665ff8a0-da52-4653-b0e5-92b5892eae17",
   "metadata": {},
   "outputs": [
    {
     "data": {
      "text/plain": [
       "79042"
      ]
     },
     "execution_count": 7,
     "metadata": {},
     "output_type": "execute_result"
    }
   ],
   "source": [
    "def falling_bricks(brick, falling=None):\n",
    "    falling = falling or set()\n",
    "    falling.add(brick)\n",
    "    for above in bricks_above[brick]:\n",
    "        if not bricks_below[above] - falling:\n",
    "            falling.update(falling_bricks(above, falling))\n",
    "    return falling\n",
    "\n",
    "sum(len(falling_bricks(brick)) - 1 for brick in bricks if brick not in safe_bricks)"
   ]
  }
 ],
 "metadata": {
  "kernelspec": {
   "display_name": "Python 3 (ipykernel)",
   "language": "python",
   "name": "python3"
  },
  "language_info": {
   "codemirror_mode": {
    "name": "ipython",
    "version": 3
   },
   "file_extension": ".py",
   "mimetype": "text/x-python",
   "name": "python",
   "nbconvert_exporter": "python",
   "pygments_lexer": "ipython3",
   "version": "3.12.1"
  }
 },
 "nbformat": 4,
 "nbformat_minor": 5
}
